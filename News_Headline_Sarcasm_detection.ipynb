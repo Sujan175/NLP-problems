{
  "nbformat": 4,
  "nbformat_minor": 0,
  "metadata": {
    "colab": {
      "name": "News_Headline_Sarcasm_detection.ipynb",
      "provenance": []
    },
    "kernelspec": {
      "name": "python3",
      "display_name": "Python 3"
    },
    "language_info": {
      "name": "python"
    },
    "accelerator": "GPU"
  },
  "cells": [
    {
      "cell_type": "code",
      "metadata": {
        "id": "E-iqIGL5HXyU"
      },
      "source": [
        "import json\n",
        "import numpy as np\n",
        "import pandas as pd\n",
        "from sklearn.model_selection import train_test_split\n",
        "import tensorflow as tf\n",
        "from tensorflow.keras.preprocessing.text import Tokenizer\n",
        "from tensorflow.keras.preprocessing.sequence import pad_sequences"
      ],
      "execution_count": 3,
      "outputs": []
    },
    {
      "cell_type": "code",
      "metadata": {
        "id": "QqQKh5PfH8tE"
      },
      "source": [
        "# loading the data\n",
        "data = pd.read_json('/content/Sarcasm_Headlines_Dataset.json', lines=True)"
      ],
      "execution_count": 4,
      "outputs": []
    },
    {
      "cell_type": "code",
      "metadata": {
        "id": "3z4HpuhBH-89"
      },
      "source": [
        "# Spliting the data into train and test data\n",
        "X = data.headline.values\n",
        "y = data.is_sarcastic.values\n",
        "\n",
        "X_train, X_test, y_train, y_test = train_test_split(X, y, test_size=0.2, stratify=y, random_state=0)"
      ],
      "execution_count": 5,
      "outputs": []
    },
    {
      "cell_type": "code",
      "metadata": {
        "id": "ubT7g5TxIDGJ"
      },
      "source": [
        "# parameters\n",
        "vocab_size = 10000\n",
        "embedding_dim = 16\n",
        "max_length = 100\n",
        "trunc_type='post'\n",
        "padding_type='post'\n",
        "oov_tok = \"<OOV>\""
      ],
      "execution_count": 6,
      "outputs": []
    },
    {
      "cell_type": "code",
      "metadata": {
        "id": "YKWBZat5IFs7"
      },
      "source": [
        "tokenizer = Tokenizer(num_words=vocab_size, oov_token=oov_tok)\n",
        "tokenizer.fit_on_texts(X_train)\n",
        "word_index = tokenizer.word_index"
      ],
      "execution_count": 7,
      "outputs": []
    },
    {
      "cell_type": "code",
      "metadata": {
        "id": "qTb_z_7WIIRz"
      },
      "source": [
        "training_sequences = tokenizer.texts_to_sequences(X_train)\n",
        "train_pad = pad_sequences(training_sequences, maxlen=max_length, padding=padding_type, truncating=trunc_type)\n",
        "\n",
        "testing_sequences = tokenizer.texts_to_sequences(X_test)\n",
        "test_pad = pad_sequences(testing_sequences, maxlen=max_length, padding=padding_type, truncating=trunc_type)"
      ],
      "execution_count": 8,
      "outputs": []
    },
    {
      "cell_type": "code",
      "metadata": {
        "id": "C5_7ds9YILmJ"
      },
      "source": [
        "model_1 = tf.keras.Sequential([\n",
        "                             tf.keras.layers.Embedding(input_dim=vocab_size, output_dim=embedding_dim, input_length=max_length),\n",
        "                             tf.keras.layers.GlobalAvgPool1D(),\n",
        "                             tf.keras.layers.Dense(24, activation='relu'),\n",
        "                             tf.keras.layers.Dropout(0.5),\n",
        "                             tf.keras.layers.Dense(1, activation='sigmoid')\n",
        "])\n",
        "model_1.compile(loss='binary_crossentropy', metrics=['accuracy'], optimizer='adam')"
      ],
      "execution_count": 9,
      "outputs": []
    },
    {
      "cell_type": "code",
      "metadata": {
        "colab": {
          "base_uri": "https://localhost:8080/"
        },
        "id": "Yziv6Gz9JAa7",
        "outputId": "4d8e3ab4-ecfd-4ba6-ebae-564fe533ccf9"
      },
      "source": [
        "model_1.summary()"
      ],
      "execution_count": 10,
      "outputs": [
        {
          "output_type": "stream",
          "name": "stdout",
          "text": [
            "Model: \"sequential\"\n",
            "_________________________________________________________________\n",
            " Layer (type)                Output Shape              Param #   \n",
            "=================================================================\n",
            " embedding (Embedding)       (None, 100, 16)           160000    \n",
            "                                                                 \n",
            " global_average_pooling1d (G  (None, 16)               0         \n",
            " lobalAveragePooling1D)                                          \n",
            "                                                                 \n",
            " dense (Dense)               (None, 24)                408       \n",
            "                                                                 \n",
            " dropout (Dropout)           (None, 24)                0         \n",
            "                                                                 \n",
            " dense_1 (Dense)             (None, 1)                 25        \n",
            "                                                                 \n",
            "=================================================================\n",
            "Total params: 160,433\n",
            "Trainable params: 160,433\n",
            "Non-trainable params: 0\n",
            "_________________________________________________________________\n"
          ]
        }
      ]
    },
    {
      "cell_type": "code",
      "metadata": {
        "colab": {
          "base_uri": "https://localhost:8080/"
        },
        "id": "iXj69ZFIJGk9",
        "outputId": "27f44a86-2681-4720-8c28-4b46675f48b0"
      },
      "source": [
        "num_epochs = 30\n",
        "history = model_1.fit(train_pad, y_train, epochs=num_epochs, validation_data=(test_pad, y_test), verbose=2)"
      ],
      "execution_count": 11,
      "outputs": [
        {
          "output_type": "stream",
          "name": "stdout",
          "text": [
            "Epoch 1/30\n",
            "668/668 - 3s - loss: 0.6852 - accuracy: 0.5599 - val_loss: 0.6770 - val_accuracy: 0.5610 - 3s/epoch - 5ms/step\n",
            "Epoch 2/30\n",
            "668/668 - 2s - loss: 0.5518 - accuracy: 0.7388 - val_loss: 0.4216 - val_accuracy: 0.8298 - 2s/epoch - 3ms/step\n",
            "Epoch 3/30\n",
            "668/668 - 2s - loss: 0.3887 - accuracy: 0.8436 - val_loss: 0.3610 - val_accuracy: 0.8489 - 2s/epoch - 4ms/step\n",
            "Epoch 4/30\n",
            "668/668 - 2s - loss: 0.3253 - accuracy: 0.8742 - val_loss: 0.3390 - val_accuracy: 0.8559 - 2s/epoch - 3ms/step\n",
            "Epoch 5/30\n",
            "668/668 - 2s - loss: 0.2875 - accuracy: 0.8954 - val_loss: 0.3310 - val_accuracy: 0.8607 - 2s/epoch - 4ms/step\n",
            "Epoch 6/30\n",
            "668/668 - 2s - loss: 0.2510 - accuracy: 0.9115 - val_loss: 0.3315 - val_accuracy: 0.8579 - 2s/epoch - 4ms/step\n",
            "Epoch 7/30\n",
            "668/668 - 2s - loss: 0.2263 - accuracy: 0.9206 - val_loss: 0.3411 - val_accuracy: 0.8562 - 2s/epoch - 4ms/step\n",
            "Epoch 8/30\n",
            "668/668 - 2s - loss: 0.2049 - accuracy: 0.9323 - val_loss: 0.3481 - val_accuracy: 0.8562 - 2s/epoch - 4ms/step\n",
            "Epoch 9/30\n",
            "668/668 - 2s - loss: 0.1858 - accuracy: 0.9395 - val_loss: 0.3618 - val_accuracy: 0.8559 - 2s/epoch - 4ms/step\n",
            "Epoch 10/30\n",
            "668/668 - 2s - loss: 0.1718 - accuracy: 0.9434 - val_loss: 0.3837 - val_accuracy: 0.8527 - 2s/epoch - 3ms/step\n",
            "Epoch 11/30\n",
            "668/668 - 2s - loss: 0.1608 - accuracy: 0.9488 - val_loss: 0.3936 - val_accuracy: 0.8547 - 2s/epoch - 3ms/step\n",
            "Epoch 12/30\n",
            "668/668 - 2s - loss: 0.1453 - accuracy: 0.9539 - val_loss: 0.4087 - val_accuracy: 0.8549 - 2s/epoch - 4ms/step\n",
            "Epoch 13/30\n",
            "668/668 - 2s - loss: 0.1366 - accuracy: 0.9588 - val_loss: 0.4358 - val_accuracy: 0.8521 - 2s/epoch - 3ms/step\n",
            "Epoch 14/30\n",
            "668/668 - 2s - loss: 0.1258 - accuracy: 0.9615 - val_loss: 0.4522 - val_accuracy: 0.8484 - 2s/epoch - 4ms/step\n",
            "Epoch 15/30\n",
            "668/668 - 2s - loss: 0.1163 - accuracy: 0.9654 - val_loss: 0.5073 - val_accuracy: 0.8439 - 2s/epoch - 4ms/step\n",
            "Epoch 16/30\n",
            "668/668 - 2s - loss: 0.1091 - accuracy: 0.9684 - val_loss: 0.4981 - val_accuracy: 0.8441 - 2s/epoch - 4ms/step\n",
            "Epoch 17/30\n",
            "668/668 - 2s - loss: 0.1038 - accuracy: 0.9694 - val_loss: 0.5687 - val_accuracy: 0.8396 - 2s/epoch - 4ms/step\n",
            "Epoch 18/30\n",
            "668/668 - 2s - loss: 0.0967 - accuracy: 0.9732 - val_loss: 0.5613 - val_accuracy: 0.8420 - 2s/epoch - 3ms/step\n",
            "Epoch 19/30\n",
            "668/668 - 2s - loss: 0.0889 - accuracy: 0.9754 - val_loss: 0.5784 - val_accuracy: 0.8401 - 2s/epoch - 3ms/step\n",
            "Epoch 20/30\n",
            "668/668 - 2s - loss: 0.0835 - accuracy: 0.9773 - val_loss: 0.6172 - val_accuracy: 0.8405 - 2s/epoch - 3ms/step\n",
            "Epoch 21/30\n",
            "668/668 - 2s - loss: 0.0815 - accuracy: 0.9762 - val_loss: 0.6215 - val_accuracy: 0.8343 - 2s/epoch - 4ms/step\n",
            "Epoch 22/30\n",
            "668/668 - 2s - loss: 0.0756 - accuracy: 0.9788 - val_loss: 0.7496 - val_accuracy: 0.8310 - 2s/epoch - 3ms/step\n",
            "Epoch 23/30\n",
            "668/668 - 2s - loss: 0.0701 - accuracy: 0.9808 - val_loss: 0.7226 - val_accuracy: 0.8336 - 2s/epoch - 3ms/step\n",
            "Epoch 24/30\n",
            "668/668 - 2s - loss: 0.0679 - accuracy: 0.9823 - val_loss: 0.7926 - val_accuracy: 0.8287 - 2s/epoch - 4ms/step\n",
            "Epoch 25/30\n",
            "668/668 - 2s - loss: 0.0613 - accuracy: 0.9849 - val_loss: 0.8408 - val_accuracy: 0.8298 - 2s/epoch - 3ms/step\n",
            "Epoch 26/30\n",
            "668/668 - 2s - loss: 0.0610 - accuracy: 0.9844 - val_loss: 0.8118 - val_accuracy: 0.8297 - 2s/epoch - 3ms/step\n",
            "Epoch 27/30\n",
            "668/668 - 2s - loss: 0.0581 - accuracy: 0.9847 - val_loss: 0.8660 - val_accuracy: 0.8293 - 2s/epoch - 4ms/step\n",
            "Epoch 28/30\n",
            "668/668 - 2s - loss: 0.0525 - accuracy: 0.9864 - val_loss: 0.8769 - val_accuracy: 0.8265 - 2s/epoch - 3ms/step\n",
            "Epoch 29/30\n",
            "668/668 - 2s - loss: 0.0504 - accuracy: 0.9865 - val_loss: 0.9537 - val_accuracy: 0.8259 - 2s/epoch - 3ms/step\n",
            "Epoch 30/30\n",
            "668/668 - 2s - loss: 0.0449 - accuracy: 0.9883 - val_loss: 0.9974 - val_accuracy: 0.8238 - 2s/epoch - 3ms/step\n"
          ]
        }
      ]
    },
    {
      "cell_type": "code",
      "metadata": {
        "colab": {
          "base_uri": "https://localhost:8080/",
          "height": 541
        },
        "id": "ch09HNH9JKwr",
        "outputId": "2e639661-6984-4c09-9179-6e4e921e013a"
      },
      "source": [
        "import matplotlib.pyplot as plt\n",
        "\n",
        "\n",
        "def plot_graphs(history, string):\n",
        "  plt.plot(history.history[string])\n",
        "  plt.plot(history.history['val_'+string])\n",
        "  plt.xlabel(\"Epochs\")\n",
        "  plt.ylabel(string)\n",
        "  plt.legend([string, 'val_'+string])\n",
        "  plt.show()\n",
        "  \n",
        "plot_graphs(history, \"accuracy\")\n",
        "plot_graphs(history, \"loss\")"
      ],
      "execution_count": 12,
      "outputs": [
        {
          "output_type": "display_data",
          "data": {
            "image/png": "[encoded data removed]",
            "text/plain": [
              "<Figure size 432x288 with 1 Axes>"
            ]
          },
          "metadata": {
            "needs_background": "light"
          }
        },
        {
          "output_type": "display_data",
          "data": {
            "image/png": "[encoded data removed]",
            "text/plain": [
              "<Figure size 432x288 with 1 Axes>"
            ]
          },
          "metadata": {
            "needs_background": "light"
          }
        }
      ]
    },
    {
      "cell_type": "code",
      "metadata": {
        "colab": {
          "base_uri": "https://localhost:8080/"
        },
        "id": "6VQOYNhmJw07",
        "outputId": "cb4123d0-7fad-49d3-b922-87a18af0d904"
      },
      "source": [
        "sentence = [\"granny starting to fear spiders in the garden might be real\", \"game of thrones season finale showing this sunday night\"]\n",
        "sequences = tokenizer.texts_to_sequences(sentence)\n",
        "padded = pad_sequences(sequences, maxlen=max_length, padding=padding_type, truncating=trunc_type)\n",
        "print(model_1.predict(padded))"
      ],
      "execution_count": 13,
      "outputs": [
        {
          "output_type": "stream",
          "name": "stdout",
          "text": [
            "[[0.9705561 ]\n",
            " [0.00492471]]\n"
          ]
        }
      ]
    },
    {
      "cell_type": "code",
      "metadata": {
        "colab": {
          "base_uri": "https://localhost:8080/"
        },
        "id": "Mpedk7vYJ9sL",
        "outputId": "ba5f1292-5cfa-4917-f057-b6ff7eea97f2"
      },
      "source": [
        "sentence = [\"Man With No Friends Plans Makeshift Friendsgiving With Family Members Instead\", \"South Africa Braces For COVID-19 Wave Propelled By Omicron\"]\n",
        "sequences = tokenizer.texts_to_sequences(sentence)\n",
        "padded = pad_sequences(sequences, maxlen=max_length, padding=padding_type, truncating=trunc_type)\n",
        "print(model_1.predict(padded))"
      ],
      "execution_count": 14,
      "outputs": [
        {
          "output_type": "stream",
          "name": "stdout",
          "text": [
            "[[0.9999878]\n",
            " [1.       ]]\n"
          ]
        }
      ]
    },
    {
      "cell_type": "code",
      "metadata": {
        "id": "SP4PegNCKut5"
      },
      "source": [
        ""
      ],
      "execution_count": 14,
      "outputs": []
    }
  ]
}